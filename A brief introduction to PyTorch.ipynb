{
 "cells": [
  {
   "cell_type": "code",
   "execution_count": 1,
   "id": "0c79ebab",
   "metadata": {},
   "outputs": [],
   "source": [
    "import warnings\n",
    "warnings.filterwarnings(\"ignore\")\n",
    "import torch"
   ]
  },
  {
   "cell_type": "markdown",
   "id": "c7cd4e14",
   "metadata": {},
   "source": [
    "**1.PyTorch vs Numpy**"
   ]
  },
  {
   "cell_type": "markdown",
   "id": "a9738df8",
   "metadata": {},
   "source": [
    "Deosebiri fundamentale intre PyTorch si Numpy:\n",
    "1. Numpy:\n",
    "- poate lucra cu date multidimensionale acestea fiind stocate in array\n",
    "- este utilizata pentru calcul stiintific/operatii matematice (manipularea datelor)\n",
    "- nu poate efectua calcule de gradient (nu ofera un sistem de autograd)\n",
    "- nu ofera suport pentru operatii implicate in invatarea automata\n",
    "- array-urile pot fi convertite in tensori si viceversa\n",
    "- nu ofera suport direct pentru calculul pe GPU\n",
    "\n",
    "2. Pytorch:\n",
    "- poate lucra cu date multidimensionale acestea fiind stocate in tensori\n",
    "- este folosit pentru dezvoltarea si antrenarea modelelor din Deep Learning\n",
    "- are un sistem autograd incorporat care permite calcularea gradientului in cadrul operatiilor pe tensori\n",
    "- tensorii pot fi convertiti in array-uri si viceversa\n",
    "- are suport de calcul pe GPU, ceea ce face posibila accelerarea operatilor matematice cu tensori\n",
    "\n",
    " GPU (Unitatea de Procesare Grafica)------------------- CPU (Unitatea de Procesare Centrala)\n",
    " - CPU este mai versatil și puternic pentru sarcini variate, în timp ce GPU este specializată în calcule masive în paralel și este potrivită pentru sarcini care pot beneficia de paralelism masiv. \n",
    " - In invatarea automata se prefera GPU."
   ]
  },
  {
   "cell_type": "markdown",
   "id": "fead5d1a",
   "metadata": {},
   "source": [
    "**2.Tensori**"
   ]
  },
  {
   "cell_type": "markdown",
   "id": "ee753473",
   "metadata": {},
   "source": [
    "- Definirea tensorilor"
   ]
  },
  {
   "cell_type": "code",
   "execution_count": 2,
   "id": "7b10918f",
   "metadata": {},
   "outputs": [],
   "source": [
    "#crearea unui tensor vid\n",
    "empty_tensor=torch.tensor([])\n",
    "\n",
    "#crearea unui tensor de ordin 0 (scalar)\n",
    "scalar=torch.tensor([2])\n",
    "\n",
    "#crearea unui tensor de ordin 1 (vector)\n",
    "vector=torch.tensor([9,3,2,1,9,0])\n",
    "\n",
    "#crearea unui tensor de ordi 2 (matrice)\n",
    "matrice=torch.tensor([[1,2,3],\n",
    "                     [9,3,1],\n",
    "                     [9,8,4]])\n",
    "\n",
    "#crearea unui tensor multi-dimensional\n",
    "N_dimensional=torch.tensor([[[1,2],[3,4]],[[6,4],[0,1]]])"
   ]
  },
  {
   "cell_type": "markdown",
   "id": "10d9958d",
   "metadata": {},
   "source": [
    "- Dimensiunea tensorilor"
   ]
  },
  {
   "cell_type": "code",
   "execution_count": 3,
   "id": "574b8f3b",
   "metadata": {},
   "outputs": [
    {
     "data": {
      "text/plain": [
       "torch.Size([2, 2, 2])"
      ]
     },
     "execution_count": 3,
     "metadata": {},
     "output_type": "execute_result"
    }
   ],
   "source": [
    "#dimensiunea unui tensor se determina cu nume_tensor.shape\n",
    "N_dimensional.shape"
   ]
  },
  {
   "cell_type": "markdown",
   "id": "ffa5f354",
   "metadata": {},
   "source": [
    "- Redimensionarea tensorilor"
   ]
  },
  {
   "cell_type": "code",
   "execution_count": 4,
   "id": "c937c4fe",
   "metadata": {},
   "outputs": [
    {
     "name": "stdout",
     "output_type": "stream",
     "text": [
      "torch.Size([2, 4])\n"
     ]
    }
   ],
   "source": [
    "#se realizeaza prin nume_tensor.reshape(noile_dimensiuni)\n",
    "a=torch.tensor([1,2,3,4,5,6,7,8],dtype=torch.uint8)\n",
    "a=a.reshape(2,4)\n",
    "print(a.shape)"
   ]
  },
  {
   "cell_type": "markdown",
   "id": "e2686694",
   "metadata": {},
   "source": [
    "- Tensorii sunt imutabili (pentru a putea face o modificare intr-un tensor trebuie creata o copie a sa)"
   ]
  },
  {
   "cell_type": "code",
   "execution_count": 5,
   "id": "0280c756",
   "metadata": {},
   "outputs": [
    {
     "name": "stdout",
     "output_type": "stream",
     "text": [
      "tensor([12,  2,  3,  4,  5,  6], dtype=torch.uint8)\n",
      "tensor([[1, 2],\n",
      "        [3, 4],\n",
      "        [5, 6]], dtype=torch.uint8)\n"
     ]
    }
   ],
   "source": [
    "b=torch.tensor([1,2,3,4,5,6],dtype=torch.uint8)\n",
    "\n",
    "#cream o copie a tensorului b pe care o vom putea modifica\n",
    "c=b.clone()\n",
    "c[0]=12\n",
    "print(c)\n",
    "\n",
    "#cream o alta referinta catre tensorul initial (modificarea pe care o vom face pe unul dintre tensori se va reflecta si pentru celalalt)\n",
    "b=b.reshape(3,2)\n",
    "print(b)"
   ]
  },
  {
   "cell_type": "markdown",
   "id": "d1b321e9",
   "metadata": {},
   "source": [
    "- Tipul tensorilor pote fi specificat la crearea acestora folosind argumentul dtype"
   ]
  },
  {
   "cell_type": "code",
   "execution_count": 6,
   "id": "a9fbefb7",
   "metadata": {},
   "outputs": [],
   "source": [
    "#tipul torch.float32\n",
    "t1=torch.tensor([8,6.2,8.9],dtype=torch.float32)\n",
    "\n",
    "#tipul torch.float64/torch.double\n",
    "t2=torch.tensor([7,1,2,4,5],dtype=torch.double)\n",
    "\n",
    "#tipul torch.int32\n",
    "t3=torch.tensor([1,2,3,44],dtype=torch.int32)\n",
    "\n",
    "#tipul torch.int64\n",
    "t4=torch.tensor([9,6,3,2,1],dtype=torch.int64)\n",
    "\n",
    "#tipul torch.uint8->valori intregi fara semn\n",
    "t5=torch.tensor([9,1,2,3,4],dtype=torch.uint8)\n",
    "\n",
    "#tipul bool\n",
    "t6=torch.tensor([True,False,True],dtype=torch.bool)"
   ]
  },
  {
   "cell_type": "markdown",
   "id": "2bd7f03c",
   "metadata": {},
   "source": [
    "- Conversia tipului tensorilor se poate face prin functia type() sau to()"
   ]
  },
  {
   "cell_type": "code",
   "execution_count": 7,
   "id": "05f0c525",
   "metadata": {},
   "outputs": [
    {
     "name": "stdout",
     "output_type": "stream",
     "text": [
      "tensor([7, 4, 3, 2], dtype=torch.uint8)\n"
     ]
    }
   ],
   "source": [
    "v=torch.tensor([7,4,3,2],dtype=torch.int64)\n",
    "v=v.type(torch.uint8)\n",
    "print(v)"
   ]
  },
  {
   "cell_type": "markdown",
   "id": "ca685ac1",
   "metadata": {},
   "source": [
    "- Functii utilitare (utility function)- faciliteaza lucrul cu tensori"
   ]
  },
  {
   "cell_type": "code",
   "execution_count": 8,
   "id": "db996d80",
   "metadata": {},
   "outputs": [],
   "source": [
    "#crearea unui tensor nul\n",
    "a=torch.zeros(2,2,3)\n",
    "\n",
    "#crearea unui tensor avand toate elementele 1\n",
    "b=torch.ones(3,2,2)\n",
    "\n",
    "#crearea unui tensor identitate\n",
    "c=torch.eye(2,2)\n"
   ]
  },
  {
   "cell_type": "markdown",
   "id": "6f41d300",
   "metadata": {},
   "source": [
    "- Operatii cu tensori"
   ]
  },
  {
   "cell_type": "code",
   "execution_count": 9,
   "id": "e710a370",
   "metadata": {},
   "outputs": [],
   "source": [
    "#generarea elementelor unui tensor\n",
    "x1=torch.arange(1,10,0.5)\n",
    "\n",
    "#generarea unui tensor cu valori random extrase dintr-o distributie gaussiana\n",
    "x2=torch.randn(10)\n",
    "\n",
    "#adunarea /scaderea tensorilor impune ca si conditie ca tensorii sa aiba aceasi dimensiune, se realizeaza pe componente\n",
    "\n",
    "x3=torch.arange(1,11)\n",
    "x3=x3.reshape(2,5)\n",
    "x4=torch.arange(11,21)\n",
    "x4=x4.reshape(2,5)\n",
    "x5=x3+x4\n",
    "\n",
    "#inmultirea element cu element \n",
    "x6=x3*x4\n",
    "\n",
    "#inmultirea matriceala a tensorilor\n",
    "x7=torch.tensor([[1,2],\n",
    "                [3,4]])\n",
    "x8=torch.tensor([[1],\n",
    "                [3]])\n",
    "x9=x7@x8\n",
    "\n",
    "#suma tuturor elementelor unui tensor\n",
    "s1=x7.sum()\n",
    "\n",
    "#suma elementelor de pe fiecare coloana\n",
    "s2=x7.sum(dim=0)\n",
    "\n",
    "#suma elementelor de pe fiecare linie\n",
    "s3=x7.sum(dim=1)\n",
    "\n",
    "#deviatia standard a elementelor unui tensor\n",
    "d=x2.std()"
   ]
  },
  {
   "cell_type": "markdown",
   "id": "b18b5c49",
   "metadata": {},
   "source": [
    "- Accesarea elementelor unui tensor"
   ]
  },
  {
   "cell_type": "code",
   "execution_count": 10,
   "id": "4d2a47ac",
   "metadata": {},
   "outputs": [
    {
     "name": "stdout",
     "output_type": "stream",
     "text": [
      "Al doilea element:  tensor(0.7064)\n",
      "Elementul de pe pozitia (2,2):  tensor(4)\n",
      "Elementele primei linii:  tensor([1, 2])\n",
      "Elementele primei coloane:  tensor([1, 3])\n",
      "Elementul primului neuron,aflat pe linia 1, coloana 2:  tensor(2)\n"
     ]
    }
   ],
   "source": [
    "#Indexarea intr-un tensor se face pornind de la 0\n",
    "\n",
    "#accesarea elementelor unui tensor 1D\n",
    "q1=torch.randn(7)\n",
    "print(\"Al doilea element: \",q1[1])\n",
    "\n",
    "#accesarea elementelor unui tensor 2D\n",
    "q2=torch.arange(1,5).reshape(2,2)\n",
    "print(\"Elementul de pe pozitia (2,2): \",q2[1,1])\n",
    "\n",
    "#accesarea unei linii a unui tensor 2D\n",
    "print(\"Elementele primei linii: \",q2[0,:])\n",
    "\n",
    "#accesarea unei coloane a unui tensor 2D\n",
    "print(\"Elementele primei coloane: \",q2[:,0])\n",
    "\n",
    "#accesarea elementelor unui tensor N dimensional\n",
    "q3=torch.tensor([[[1,2],\n",
    "                 [3,4]],\n",
    "                 [[0,1],\n",
    "                 [1,1]]])\n",
    "print(\"Elementul primului neuron,aflat pe linia 1, coloana 2: \",q3[0,0,1])"
   ]
  },
  {
   "cell_type": "markdown",
   "id": "4b395e96",
   "metadata": {},
   "source": [
    "**3.Autograd**"
   ]
  },
  {
   "cell_type": "markdown",
   "id": "a6eedb47",
   "metadata": {},
   "source": [
    "Autograd (diferentierea automata) este un mecanism folosit de Pytorch pentru a calcula gradientul automat pentru un anumit tensor."
   ]
  },
  {
   "cell_type": "code",
   "execution_count": 11,
   "id": "2586bc3f",
   "metadata": {},
   "outputs": [
    {
     "data": {
      "text/plain": [
       "tensor([4.])"
      ]
     },
     "execution_count": 11,
     "metadata": {},
     "output_type": "execute_result"
    }
   ],
   "source": [
    "#La crearea unui tensor se poate specifica daca dorim sa fie inregistrat automat gradientul acestuia \n",
    "#prin starea requires_grad=True. Gradientii pentru tensorul specificat se vor acumula.\n",
    "x=torch.tensor([2.0],requires_grad=True)\n",
    "f=x**2\n",
    "\n",
    "#calcul gradientului prin specificarea functiei la care ne raportam pentru a calcula gradientul\n",
    "f.backward()\n",
    "\n",
    "#obtinerea gradientului functiei calculat in tensorul ce contine requires_grad=True prin atributul grad\n",
    "gradient=x.grad\n",
    "\n",
    "gradient"
   ]
  },
  {
   "cell_type": "code",
   "execution_count": 12,
   "id": "74d3b336",
   "metadata": {},
   "outputs": [
    {
     "data": {
      "text/plain": [
       "tensor([16.])"
      ]
     },
     "execution_count": 12,
     "metadata": {},
     "output_type": "execute_result"
    }
   ],
   "source": [
    "#valoarea gradientului calculat pentru un tensor raportat la mai multe functii se acumuleaza\n",
    "\n",
    "g=x**3\n",
    "g.backward()\n",
    "gradient1=x.grad\n",
    "gradient1"
   ]
  },
  {
   "cell_type": "code",
   "execution_count": 13,
   "id": "ec57451e",
   "metadata": {},
   "outputs": [
    {
     "name": "stdout",
     "output_type": "stream",
     "text": [
      "Valoarea lui 'val' calculata fara gradient:  tensor([9.])\n"
     ]
    }
   ],
   "source": [
    "#oprirea temporara a inregistrarii gradientilor se face cu torch.no_grad()\n",
    "\n",
    "d=torch.tensor([3.0],requires_grad=True)\n",
    "h=2*d\n",
    "h.backward()\n",
    "gradient_calculat=d.grad\n",
    "with torch.no_grad():\n",
    "    val=d**2\n",
    "    print(\"Valoarea lui 'val' calculata fara gradient: \",val)"
   ]
  },
  {
   "cell_type": "markdown",
   "id": "a95faf7f",
   "metadata": {},
   "source": [
    "**4.NEURAL NETWORK MODULE**"
   ]
  },
  {
   "cell_type": "markdown",
   "id": "6ecd6218",
   "metadata": {},
   "source": [
    "'torch.nn' este un modul fundamental al framework-ului PyTorch ce contine o serie de clase ce reprezinta straturile retelei neuronale. Cu ajutorul acestor clase putem defini structura retelelor neuronale. Acest modul prin clasele sale ne permite:\n",
    "- configurarea parametrilor ce intevin in arhitectura retelei\n",
    "- functii de activare \n",
    "- Functii de cost, care sa masoare eroarea\n",
    "- efectuarea de operatii cu tensori\n",
    "- initializarea automata a parametrilor din cadrul retei\n",
    "\n",
    "Modulul 'torch.nn' fucntioneaza in stransa legatura cu 'torch.optim' ce ofera algoritmi de optimizare prin care ponderile sunt update."
   ]
  },
  {
   "cell_type": "markdown",
   "id": "e8e489eb",
   "metadata": {},
   "source": [
    "**a) Crearea unui strat liniar (Linear Layer)**"
   ]
  },
  {
   "cell_type": "code",
   "execution_count": 14,
   "id": "fcefc127",
   "metadata": {},
   "outputs": [
    {
     "name": "stdout",
     "output_type": "stream",
     "text": [
      "Tensorul care va fi introdus in retea: \n",
      "tensor([[[1., 1., 1., 1.],\n",
      "         [1., 1., 1., 1.],\n",
      "         [1., 1., 1., 1.]],\n",
      "\n",
      "        [[1., 1., 1., 1.],\n",
      "         [1., 1., 1., 1.],\n",
      "         [1., 1., 1., 1.]]])\n",
      "Parametrii stratului liniar:\n",
      "Ponderi (weights): Parameter containing:\n",
      "tensor([[ 0.0815, -0.0560,  0.1442,  0.1023],\n",
      "        [-0.4752, -0.2734, -0.3016,  0.0393]], requires_grad=True)\n",
      "Bias: Parameter containing:\n",
      "tensor([-0.0752, -0.2064], requires_grad=True)\n"
     ]
    }
   ],
   "source": [
    "import torch.nn as nn\n",
    "\n",
    "x=torch.ones(2,3,4)#ne-am definit un tensor unde 2-reprezinta dimensiunea batch-ului, fiecare element din batch va fi in cazul\n",
    "                   #nostru o matrice avand 3 lini si 4 coloane\n",
    "print(\"Tensorul care va fi introdus in retea: \")\n",
    "print(x)\n",
    "\n",
    "#vom crea un strat liniar\n",
    "linear_layer=nn.Linear(4,2)#se genereaza ponderile si bias-ul in mod random, linear_layer fiind un obiect creat la clasa 'Linear'\n",
    "\n",
    "#Calculele care se efectueaza au urmatoarea regula:\n",
    "#- tensorul x contine in cazul de fata 2 matrici(neuroni) de dimensiune (3,4) fiecare\n",
    "#- nn.Linear(4,2) va geenera o matrice de ponderi de dimensiune(2,4)\n",
    "#- este important ca numarul de coloane ale matricilor de ponderi sa coincida cu numarul de coloane ale neuronilor\n",
    "#- de asemenea se genereaza si un bias care este un vector de dimensiune (1,2)\n",
    "#- calculul care se efectueaza pentru primul neuron:\n",
    "#    [[x[0]*w[0]+b[0],x[0]*w[1]+b[1]],\n",
    "#     [x[1]*w[0]+b[0],x[1]*w[1]+b[1]],\n",
    "#     [x[2]*w[0]+b[0],x[2]*w[1]+b[1]]]\n",
    "#- un calcul similar se face pentru cel de-al doilea neuron\n",
    "#- matricea de ponderi generata si bias-ul sunt identice pentru ambii neuroni\n",
    "#- asadar dupa transformarea liniara rezulta un tensor avand doua caracteristici (neuroni) de dimensiune (3,2)\n",
    "\n",
    "#Putem vizualiza ponderile si bias-ul care au fost generate automat\n",
    "print(\"Parametrii stratului liniar:\")\n",
    "print(\"Ponderi (weights):\", linear_layer.weight)\n",
    "print(\"Bias:\", linear_layer.bias)"
   ]
  },
  {
   "cell_type": "code",
   "execution_count": 15,
   "id": "6d357cc0",
   "metadata": {},
   "outputs": [
    {
     "name": "stdout",
     "output_type": "stream",
     "text": [
      "Output-ul obtinut in urma aplicarii startului liniar asupra tensorului x este: \n",
      "tensor([[[ 0.1968, -1.2173],\n",
      "         [ 0.1968, -1.2173],\n",
      "         [ 0.1968, -1.2173]],\n",
      "\n",
      "        [[ 0.1968, -1.2173],\n",
      "         [ 0.1968, -1.2173],\n",
      "         [ 0.1968, -1.2173]]], grad_fn=<ViewBackward0>)\n"
     ]
    }
   ],
   "source": [
    "#Aplicam stratul liniar asupra tensorului x\n",
    "print(\"Output-ul obtinut in urma aplicarii startului liniar asupra tensorului x este: \")\n",
    "linear_output=linear_layer(x)\n",
    "print(linear_output)"
   ]
  },
  {
   "cell_type": "markdown",
   "id": "d64a978b",
   "metadata": {},
   "source": [
    "**b) Aplicarea unei functii de activare (Activation Function Layer)**"
   ]
  },
  {
   "cell_type": "markdown",
   "id": "6b6b2044",
   "metadata": {},
   "source": [
    "Functia de activare are rolul in principiu de a adauga neliniarite in reteaua creata. Acesta se aplica fiecarui element din tensor fara a schimba dimensiunea acestuia."
   ]
  },
  {
   "cell_type": "code",
   "execution_count": 16,
   "id": "83e83a60",
   "metadata": {},
   "outputs": [
    {
     "name": "stdout",
     "output_type": "stream",
     "text": [
      "Tensorul rezultat in urma aplicarii functiei sigmoid este: \n",
      "tensor([[[0.5490, 0.2284],\n",
      "         [0.5490, 0.2284],\n",
      "         [0.5490, 0.2284]],\n",
      "\n",
      "        [[0.5490, 0.2284],\n",
      "         [0.5490, 0.2284],\n",
      "         [0.5490, 0.2284]]], grad_fn=<SigmoidBackward0>)\n"
     ]
    }
   ],
   "source": [
    "sigmoid = nn.Sigmoid()#cream un obiect la clasa Sigmoid\n",
    "output = sigmoid(linear_output)#aplicam functia sigmoid fiecarui element din tensorul linear_output\n",
    "print(\"Tensorul rezultat in urma aplicarii functiei sigmoid este: \")\n",
    "print(output)"
   ]
  },
  {
   "cell_type": "markdown",
   "id": "aa1b165d",
   "metadata": {},
   "source": [
    "Alte functii de activare care se pot aplica sunt: ReLU(), Tanh(), Softmax(), LeakyReLU()."
   ]
  },
  {
   "cell_type": "markdown",
   "id": "29c672c5",
   "metadata": {},
   "source": [
    "**c) Constructia eficienta, secventiala a retelelor neuronale**"
   ]
  },
  {
   "cell_type": "markdown",
   "id": "b72c53e8",
   "metadata": {},
   "source": [
    "Pentru a crea o retea neuronala intr-un mod eficient putem folosi clasa 'Sequentual'. Aceasta ne permite definirea unei serii de straturi in mod secvential. Straturile vor fi adaugate in ordinea in care ar trebui sa fie aplicate."
   ]
  },
  {
   "cell_type": "code",
   "execution_count": 17,
   "id": "8012e6f5",
   "metadata": {},
   "outputs": [
    {
     "name": "stdout",
     "output_type": "stream",
     "text": [
      "Output-ul obtinut: \n"
     ]
    },
    {
     "data": {
      "text/plain": [
       "tensor([[[0.5892, 0.2741],\n",
       "         [0.5892, 0.2741],\n",
       "         [0.5892, 0.2741]],\n",
       "\n",
       "        [[0.5892, 0.2741],\n",
       "         [0.5892, 0.2741],\n",
       "         [0.5892, 0.2741]]], grad_fn=<SigmoidBackward0>)"
      ]
     },
     "execution_count": 17,
     "metadata": {},
     "output_type": "execute_result"
    }
   ],
   "source": [
    "#ne definim un tensor cu doua caracteristici\n",
    "x = torch.ones(2,3,4)\n",
    "\n",
    "#ne definim urmatoarea secventa \n",
    "block = nn.Sequential(\n",
    "    nn.Linear(4, 2),\n",
    "    nn.Sigmoid()\n",
    ")\n",
    "#trecem tensorul x prin straturile definite in interiorul blocului\n",
    "output = block(x)\n",
    "\n",
    "print(\"Output-ul obtinut: \")\n",
    "output"
   ]
  },
  {
   "cell_type": "markdown",
   "id": "ada80ebb",
   "metadata": {},
   "source": [
    "**d) Module Personalizate (Custom Modules)**"
   ]
  },
  {
   "cell_type": "markdown",
   "id": "1a52001d",
   "metadata": {},
   "source": [
    "'nn.Module' este o clasa din PyTorch care ne permite definirea, gestionarea si organizarea modulelor unei retele neuronale prin extinderea acestei clase. In accest fel clasa parinte se va ocupa de gestionarea parametrilor si de aspecte ce priveste definirea si utilizarea modelelor in retelele neuronale, iar child class poate fi folosita pentru a defini straturi (layers) si operatii."
   ]
  },
  {
   "cell_type": "code",
   "execution_count": 18,
   "id": "f3799b2d",
   "metadata": {},
   "outputs": [
    {
     "data": {
      "text/plain": [
       "[('model.0.weight',\n",
       "  Parameter containing:\n",
       "  tensor([[ 0.0791, -0.1316, -0.2891, -0.0724, -0.1961],\n",
       "          [ 0.3692,  0.3480,  0.3911,  0.0851,  0.0703],\n",
       "          [ 0.1803,  0.2802,  0.3701, -0.4099,  0.0136]], requires_grad=True)),\n",
       " ('model.0.bias',\n",
       "  Parameter containing:\n",
       "  tensor([-0.1730,  0.3749, -0.0842], requires_grad=True)),\n",
       " ('model.2.weight',\n",
       "  Parameter containing:\n",
       "  tensor([[-0.1287, -0.3904, -0.0603],\n",
       "          [-0.4869, -0.1280, -0.3106],\n",
       "          [ 0.4135, -0.4311,  0.5650],\n",
       "          [ 0.3378, -0.1910,  0.2820],\n",
       "          [ 0.5524,  0.0344, -0.3117]], requires_grad=True)),\n",
       " ('model.2.bias',\n",
       "  Parameter containing:\n",
       "  tensor([ 0.2874, -0.1455, -0.2087,  0.4782,  0.0837], requires_grad=True))]"
      ]
     },
     "execution_count": 18,
     "metadata": {},
     "output_type": "execute_result"
    }
   ],
   "source": [
    "#Cream clasa MultilayerPerceptron care mostenste clasa nn.Module\n",
    "\n",
    "class MultilayerPerceptron(nn.Module):\n",
    "\n",
    "    def __init__(self, input_size, hidden_size):\n",
    "        super(MultilayerPerceptron, self).__init__()\n",
    "        self.input_size = input_size \n",
    "        self.hidden_size = hidden_size \n",
    "        #ne definim o secventa de straturi data de urmatorul bloc\n",
    "        self.model = nn.Sequential(\n",
    "            #ne definim un strat liniar (se genereaza ponderile si bias-ul in mod random)\n",
    "            #nn.Linear(self.input_size, self.hidden_size) va geenera o matrice de ponderi de dimensiune(hidden_size,input_size)\n",
    "            #se genereaza si un bias care este un vector de dimensiune (1,hidden_size)\n",
    "             nn.Linear(self.input_size, self.hidden_size),\n",
    "            #aplicam functia de activare ReLU()\n",
    "             nn.ReLU(),\n",
    "            ##ne definim un nou strat liniar\n",
    "             nn.Linear(self.hidden_size, self.input_size),\n",
    "             #aplicam functia de activare Sigmoid()\n",
    "             nn.Sigmoid()\n",
    "            )\n",
    "    #functia forword() va avea ca si argument un tensor x pe care il va trece prin retea\n",
    "    def forward(self, x):\n",
    "        output = self.model(x)\n",
    "        return output\n",
    "    \n",
    "#Cream un tensor cu valori random extrase dintr-o distributie normala\n",
    "t = torch.randn(2, 5)#ne-am definit un tensor unde 2-reprezinta dimensiunea batch-ului, fiecare element din batch va fi in cazul\n",
    "                     #nostru un vector cu 5 elemente (dimensiunea (1,5))\n",
    "    \n",
    "# Cream un obiect pentru clasa MultilayerPerceptron\n",
    "model = MultilayerPerceptron(5, 3)\n",
    "\n",
    "# Trecm tensorul 't' creat prin model\n",
    "output=model(t)\n",
    "\n",
    "#Afisam o lista cu ponderile si bias-ul care au fost generate in cadrul fiecarui strat liniar\n",
    "list(model.named_parameters())\n"
   ]
  },
  {
   "cell_type": "markdown",
   "id": "5ca790b8",
   "metadata": {},
   "source": [
    "**5. OPTIMIZATION**"
   ]
  },
  {
   "cell_type": "markdown",
   "id": "9828b887",
   "metadata": {},
   "source": [
    "Avand o definire clara a retelei neuronale vom fi nevoiti in continuare sa alegem o functie de cost, prin care se va evalua performanta modelului, precum si o metoda de updatare a ponderilor prin care eroarea sa se diminueze."
   ]
  },
  {
   "cell_type": "code",
   "execution_count": 19,
   "id": "d3092190",
   "metadata": {},
   "outputs": [
    {
     "name": "stdout",
     "output_type": "stream",
     "text": [
      "Epoch 0: traing loss: 0.6815793514251709\n",
      "Epoch 1: traing loss: 0.5082522630691528\n",
      "Epoch 2: traing loss: 0.35697484016418457\n",
      "Epoch 3: traing loss: 0.2258753776550293\n",
      "Epoch 4: traing loss: 0.12618672847747803\n",
      "Epoch 5: traing loss: 0.06350637227296829\n",
      "Epoch 6: traing loss: 0.029285527765750885\n",
      "Epoch 7: traing loss: 0.012818590737879276\n",
      "Epoch 8: traing loss: 0.0055492939427495\n",
      "Epoch 9: traing loss: 0.0024520468432456255\n",
      "\n",
      "Predicted values for Training Data: \n",
      "tensor([[1.0000, 0.9997, 1.0000, 1.0000, 0.9999],\n",
      "        [0.9999, 0.9995, 0.9999, 1.0000, 0.9999],\n",
      "        [0.9954, 0.9825, 0.9971, 0.9977, 0.9963],\n",
      "        [1.0000, 1.0000, 1.0000, 1.0000, 1.0000],\n",
      "        [1.0000, 0.9999, 1.0000, 1.0000, 1.0000],\n",
      "        [0.9990, 0.9950, 0.9990, 0.9995, 0.9987],\n",
      "        [0.9991, 0.9958, 0.9996, 0.9997, 0.9995],\n",
      "        [0.9989, 0.9948, 0.9996, 0.9996, 0.9995],\n",
      "        [1.0000, 1.0000, 1.0000, 1.0000, 1.0000],\n",
      "        [0.9999, 0.9994, 1.0000, 1.0000, 0.9999]], grad_fn=<SigmoidBackward0>)\n"
     ]
    },
    {
     "data": {
      "image/png": "[encoded data removed]",
      "text/plain": [
       "<Figure size 800x500 with 1 Axes>"
      ]
     },
     "metadata": {},
     "output_type": "display_data"
    },
    {
     "name": "stdout",
     "output_type": "stream",
     "text": [
      "\n",
      "Predicted values for Test Data: \n",
      "tensor([[1.0000, 1.0000, 1.0000, 1.0000, 1.0000],\n",
      "        [1.0000, 0.9999, 1.0000, 1.0000, 1.0000],\n",
      "        [0.9994, 0.9968, 0.9991, 0.9997, 0.9990],\n",
      "        [1.0000, 1.0000, 1.0000, 1.0000, 1.0000],\n",
      "        [1.0000, 0.9996, 0.9999, 1.0000, 0.9999],\n",
      "        [1.0000, 0.9998, 1.0000, 1.0000, 1.0000],\n",
      "        [0.9999, 0.9993, 0.9999, 1.0000, 0.9998],\n",
      "        [1.0000, 1.0000, 1.0000, 1.0000, 1.0000],\n",
      "        [1.0000, 0.9997, 0.9999, 1.0000, 0.9999],\n",
      "        [0.9997, 0.9983, 0.9999, 0.9999, 0.9998]], grad_fn=<SigmoidBackward0>)\n"
     ]
    }
   ],
   "source": [
    "#Importam modulul ce contine o gama larga de algoritmi de optimizare\n",
    "import torch.optim as optim\n",
    "\n",
    "#Definim output-ul la care trebuie sa ajunga inputul nostru incarcat in reteaua neuronala\n",
    "y = torch.ones(10, 5)#am definit un tensor 2-D\n",
    "\n",
    "#Generam inputul in mod artificial care va fi incarcat in retea si care va trebui sa ajunga la output-ul y\n",
    "x = y + torch.randn_like(y)\n",
    "#rand_like(y) genereaza un tensor de aceasi dimensiune cu y\n",
    "\n",
    "#Cream o instanta pentru clasa 'MultilayerPerceptron'\n",
    "model = MultilayerPerceptron(5, 3)\n",
    "\n",
    "#Definim optimizatorul si configuram rata learning rate-ul\n",
    "adam = optim.Adam(model.parameters(), lr=1e-1)\n",
    "\n",
    "#Definim functia de cost\n",
    "loss_function = nn.BCELoss()\n",
    "#nn.BCELoss()-Binary Cross-Entropy Loss\n",
    "\n",
    "#Antrenarea modelului:\n",
    "n_epoch = 10 \n",
    "loss_values=[]\n",
    "for epoch in range(0,n_epoch):\n",
    "  # Setam gradientul cu 0 la inceputul fiecarei iteratii dearece acestia se acumuleaza pe parcursul antrenarii modelului\n",
    "    adam.zero_grad()\n",
    "\n",
    "  # Obtinem predicted value din cadrul iteratiei\n",
    "    y_pred = model(x)\n",
    "\n",
    "  # Obtinem eroarea de aproximare\n",
    "    loss = loss_function(y_pred, y)\n",
    "    loss_values.append(loss.item())\n",
    "\n",
    "  # Afisam eroarea de aproximare la fiecare iteratie\n",
    "    print(f\"Epoch {epoch}: traing loss: {loss}\")\n",
    "\n",
    "  # Calculam gradientul \n",
    "    loss.backward()\n",
    "\n",
    "  # Aplica actualizarile ponedrilor modelului utilizand optimizare Adam\n",
    "    adam.step()\n",
    "\n",
    "#Afisam predictia realizata pe datele de antrenament\n",
    "y_pred = model(x)\n",
    "print()\n",
    "print(\"Predicted values for Training Data: \")\n",
    "print(y_pred)\n",
    "\n",
    "#Vizualizarea evolutiei functiei de cost \n",
    "import matplotlib.pyplot as plt\n",
    "import numpy as np\n",
    "step = np.array(range(0,len(loss_values)))\n",
    "fig, ax = plt.subplots(figsize=(8,5))\n",
    "plt.plot(step, np.array(loss_values))\n",
    "plt.title(\"Step-wise Loss\")\n",
    "plt.xlabel(\"Epochs\")\n",
    "plt.ylabel(\"Loss\")\n",
    "plt.show()\n",
    "\n",
    "#Cream artificial date de testare\n",
    "x2 = y + torch.randn_like(y)\n",
    "\n",
    "#Realizam o predictie folosind reteaua neuronala pe baza datelor de testare\n",
    "y_pred_test = model(x2)\n",
    "print()\n",
    "print(\"Predicted values for Test Data: \")\n",
    "print(y_pred_test)\n"
   ]
  },
  {
   "cell_type": "markdown",
   "id": "81734d22",
   "metadata": {},
   "source": [
    "**XOR Problem**"
   ]
  },
  {
   "cell_type": "code",
   "execution_count": 26,
   "id": "98c22b4e",
   "metadata": {},
   "outputs": [
    {
     "name": "stdout",
     "output_type": "stream",
     "text": [
      "Epoch 0: training loss: 0.7247539162635803\n",
      "Epoch 1: training loss: 0.6999012231826782\n",
      "Epoch 2: training loss: 0.6931592226028442\n",
      "Epoch 3: training loss: 0.6975481510162354\n",
      "Epoch 4: training loss: 0.7021992802619934\n",
      "Epoch 5: training loss: 0.7025330066680908\n",
      "Epoch 6: training loss: 0.6998683214187622\n",
      "Epoch 7: training loss: 0.6966127753257751\n",
      "Epoch 8: training loss: 0.6943663358688354\n",
      "Epoch 9: training loss: 0.6936389803886414\n",
      "Epoch 10: training loss: 0.6941345930099487\n",
      "Epoch 11: training loss: 0.6951768398284912\n",
      "Epoch 12: training loss: 0.6960817575454712\n",
      "Epoch 13: training loss: 0.6964159607887268\n",
      "Epoch 14: training loss: 0.69609135389328\n",
      "Epoch 15: training loss: 0.6952956914901733\n",
      "Epoch 16: training loss: 0.6943423748016357\n",
      "Epoch 17: training loss: 0.6935244798660278\n",
      "Epoch 18: training loss: 0.6930183172225952\n",
      "Epoch 19: training loss: 0.6928489804267883\n",
      "Epoch 20: training loss: 0.6929107308387756\n",
      "Epoch 21: training loss: 0.6930262446403503\n",
      "Epoch 22: training loss: 0.6930198669433594\n",
      "Epoch 23: training loss: 0.6927752494812012\n",
      "Epoch 24: training loss: 0.6922594308853149\n",
      "Epoch 25: training loss: 0.6915101408958435\n",
      "Epoch 26: training loss: 0.6905980110168457\n",
      "Epoch 27: training loss: 0.6895813345909119\n",
      "Epoch 28: training loss: 0.688469409942627\n",
      "Epoch 29: training loss: 0.6872053742408752\n",
      "Epoch 30: training loss: 0.6856719255447388\n",
      "Epoch 31: training loss: 0.683716893196106\n",
      "Epoch 32: training loss: 0.6811865568161011\n",
      "Epoch 33: training loss: 0.6779540777206421\n",
      "Epoch 34: training loss: 0.6739332675933838\n",
      "Epoch 35: training loss: 0.669076144695282\n",
      "Epoch 36: training loss: 0.6633636951446533\n",
      "Epoch 37: training loss: 0.6567983627319336\n",
      "Epoch 38: training loss: 0.6494036912918091\n",
      "Epoch 39: training loss: 0.641232430934906\n",
      "Epoch 40: training loss: 0.632377028465271\n",
      "Epoch 41: training loss: 0.6229751706123352\n",
      "Epoch 42: training loss: 0.6132071018218994\n",
      "Epoch 43: training loss: 0.6032778024673462\n",
      "Epoch 44: training loss: 0.5933879613876343\n",
      "Epoch 45: training loss: 0.5836979150772095\n",
      "Epoch 46: training loss: 0.5742965936660767\n",
      "Epoch 47: training loss: 0.5651910305023193\n",
      "Epoch 48: training loss: 0.5563270449638367\n",
      "Epoch 49: training loss: 0.5476326942443848\n",
      "Epoch 50: training loss: 0.5390552282333374\n",
      "Epoch 51: training loss: 0.5305691361427307\n",
      "Epoch 52: training loss: 0.5221587419509888\n",
      "Epoch 53: training loss: 0.5137956142425537\n",
      "Epoch 54: training loss: 0.5054249167442322\n",
      "Epoch 55: training loss: 0.4969654083251953\n",
      "Epoch 56: training loss: 0.48832032084465027\n",
      "Epoch 57: training loss: 0.47939184308052063\n",
      "Epoch 58: training loss: 0.47009560465812683\n",
      "Epoch 59: training loss: 0.4603618085384369\n",
      "Epoch 60: training loss: 0.45011627674102783\n",
      "Epoch 61: training loss: 0.43925637006759644\n",
      "Epoch 62: training loss: 0.42765167355537415\n",
      "Epoch 63: training loss: 0.4151771068572998\n",
      "Epoch 64: training loss: 0.4017763137817383\n",
      "Epoch 65: training loss: 0.3875280022621155\n",
      "Epoch 66: training loss: 0.37261998653411865\n",
      "Epoch 67: training loss: 0.35718029737472534\n",
      "Epoch 68: training loss: 0.34121066331863403\n",
      "Epoch 69: training loss: 0.32480835914611816\n",
      "Epoch 70: training loss: 0.3082261085510254\n",
      "Epoch 71: training loss: 0.29173246026039124\n",
      "Epoch 72: training loss: 0.2754858136177063\n",
      "Epoch 73: training loss: 0.2595249116420746\n",
      "Epoch 74: training loss: 0.24388661980628967\n",
      "Epoch 75: training loss: 0.22868075966835022\n",
      "Epoch 76: training loss: 0.21402421593666077\n",
      "Epoch 77: training loss: 0.19998115301132202\n",
      "Epoch 78: training loss: 0.18658849596977234\n",
      "Epoch 79: training loss: 0.17389115691184998\n",
      "Epoch 80: training loss: 0.16194336116313934\n",
      "Epoch 81: training loss: 0.15078768134117126\n",
      "Epoch 82: training loss: 0.14043216407299042\n",
      "Epoch 83: training loss: 0.13084621727466583\n",
      "Epoch 84: training loss: 0.12198097258806229\n",
      "Epoch 85: training loss: 0.11379370838403702\n",
      "Epoch 86: training loss: 0.10625262558460236\n",
      "Epoch 87: training loss: 0.09932646155357361\n",
      "Epoch 88: training loss: 0.09297619760036469\n",
      "Epoch 89: training loss: 0.08715708553791046\n",
      "Epoch 90: training loss: 0.08182520419359207\n",
      "Epoch 91: training loss: 0.07694156467914581\n",
      "Epoch 92: training loss: 0.07247164845466614\n",
      "Epoch 93: training loss: 0.06838293373584747\n",
      "Epoch 94: training loss: 0.06464293599128723\n",
      "Epoch 95: training loss: 0.061219580471515656\n",
      "Epoch 96: training loss: 0.05808212608098984\n",
      "Epoch 97: training loss: 0.05520247668027878\n",
      "Epoch 98: training loss: 0.05255556106567383\n",
      "Epoch 99: training loss: 0.05011947453022003\n",
      "Epoch 100: training loss: 0.047874607145786285\n",
      "Epoch 101: training loss: 0.04580353945493698\n",
      "Epoch 102: training loss: 0.04389014095067978\n",
      "Epoch 103: training loss: 0.04211985692381859\n",
      "Epoch 104: training loss: 0.04047930985689163\n",
      "Epoch 105: training loss: 0.03895651549100876\n",
      "Epoch 106: training loss: 0.037540584802627563\n",
      "Epoch 107: training loss: 0.036221928894519806\n",
      "Epoch 108: training loss: 0.034991972148418427\n",
      "Epoch 109: training loss: 0.0338430255651474\n",
      "Epoch 110: training loss: 0.03276817500591278\n",
      "Epoch 111: training loss: 0.031761184334754944\n",
      "Epoch 112: training loss: 0.03081633150577545\n",
      "Epoch 113: training loss: 0.029928453266620636\n",
      "Epoch 114: training loss: 0.029092825949192047\n",
      "Epoch 115: training loss: 0.028305161744356155\n",
      "Epoch 116: training loss: 0.027561556547880173\n",
      "Epoch 117: training loss: 0.02685852348804474\n",
      "Epoch 118: training loss: 0.02619287371635437\n",
      "Epoch 119: training loss: 0.02556174248456955\n",
      "\n",
      "Predicted values for Training Data:\n",
      "tensor([[0.0080],\n",
      "        [0.9797],\n",
      "        [0.9789],\n",
      "        [0.0488]], grad_fn=<SigmoidBackward0>)\n"
     ]
    }
   ],
   "source": [
    "class XOR(nn.Module):\n",
    "\n",
    "    def __init__(self):\n",
    "        super(XOR, self).__init__()\n",
    "        self.model = nn.Sequential(\n",
    "            #definim un strat liniar avand 2 neuroni\n",
    "            nn.Linear(2, 3),\n",
    "            #aplicam functia Sigmoid\n",
    "            nn.Sigmoid(),\n",
    "            #definim un hidden layer avand 3 neuroni\n",
    "            nn.Linear(3, 1),\n",
    "            #aplicam din nou functia Sigmoid\n",
    "            nn.Sigmoid()\n",
    "        )\n",
    "    #functia forword(x) va avea rolul de a trece un tensor x prin model \n",
    "    def forward(self, x):\n",
    "        output = self.model(x)\n",
    "        return output\n",
    "\n",
    "# Definim target variable\n",
    "y = torch.tensor([[0.0], [1.0], [1.0], [0.0]])\n",
    "\n",
    "#Definim input variable\n",
    "x = torch.tensor([[0.0, 0.0],\n",
    "                  [0.0, 1.0],\n",
    "                  [1.0, 0.0],\n",
    "                  [1.0, 1.0]])\n",
    "#Cream o instanta pentru clasa creata\n",
    "model = XOR()\n",
    "\n",
    "#Definimo ptimizatorul pentru updatarea ponderilor\n",
    "adam = optim.Adam(model.parameters(), lr=1e-1)\n",
    "\n",
    "#Definim functia de cost\n",
    "loss_function = nn.BCELoss()\n",
    "\n",
    "#Antrenam Modelul construitt\n",
    "n_epoch = 120\n",
    "loss_values = []\n",
    "\n",
    "for epoch in range(n_epoch):\n",
    "    adam.zero_grad()\n",
    "    y_pred = model(x)\n",
    "    loss = loss_function(y_pred, y)\n",
    "    loss_values.append(loss.item())\n",
    "    print(f\"Epoch {epoch}: training loss: {loss.item()}\")\n",
    "    loss.backward()\n",
    "    adam.step()\n",
    "\n",
    "y_pred = model(x)\n",
    "print(\"\\nPredicted values for Training Data:\")\n",
    "print(y_pred)\n"
   ]
  },
  {
   "cell_type": "code",
   "execution_count": 27,
   "id": "2a5554c2",
   "metadata": {},
   "outputs": [
    {
     "name": "stdout",
     "output_type": "stream",
     "text": [
      "\n",
      "Predicted values for Test Data:\n",
      "tensor([[0.0080],\n",
      "        [0.9797],\n",
      "        [0.9789],\n",
      "        [0.0488]])\n"
     ]
    }
   ],
   "source": [
    "# Definim datele de testare \n",
    "x_test = torch.tensor([[0.0, 0.0],\n",
    "                      [0.0, 1.0],\n",
    "                      [1.0, 0.0],\n",
    "                      [1.0, 1.0]])\n",
    "\n",
    "# Definim target variable corespunzatoare datelor de testare\n",
    "y_test = torch.tensor([[0.0], [1.0], [1.0], [0.0]])\n",
    "\n",
    "# Rulam modelul pe datele de testare\n",
    "with torch.no_grad():  # Dezactivam urmarirea gradientilor (gradient tracking) pentru a economisii resurse\n",
    "    y_pred_test = model(x_test)\n",
    "print(\"\\nPredicted values for Test Data:\")\n",
    "print(y_pred_test)\n",
    "    "
   ]
  },
  {
   "cell_type": "code",
   "execution_count": null,
   "id": "574bab64",
   "metadata": {},
   "outputs": [],
   "source": []
  }
 ],
 "metadata": {
  "kernelspec": {
   "display_name": "Python 3 (ipykernel)",
   "language": "python",
   "name": "python3"
  },
  "language_info": {
   "codemirror_mode": {
    "name": "ipython",
    "version": 3
   },
   "file_extension": ".py",
   "mimetype": "text/x-python",
   "name": "python",
   "nbconvert_exporter": "python",
   "pygments_lexer": "ipython3",
   "version": "3.11.4"
  }
 },
 "nbformat": 4,
 "nbformat_minor": 5
}
